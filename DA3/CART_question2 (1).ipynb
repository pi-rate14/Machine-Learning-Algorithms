{
 "cells": [
  {
   "cell_type": "code",
   "execution_count": 1,
   "id": "0dc9c508",
   "metadata": {},
   "outputs": [
    {
     "name": "stdout",
     "output_type": "stream",
     "text": [
      "     Age    Job House Credit Loan Approved\n",
      "0  Young  False    No   Fair            No\n",
      "1  Young  False    No   Good            No\n",
      "2  Young   True    No   Good           Yes\n",
      "3  Young   True   Yes   Fair           Yes\n",
      "4  Young  False    No   Fair            No\n"
     ]
    }
   ],
   "source": [
    "import numpy as np\n",
    "import pandas as pd\n",
    "from sklearn.metrics import confusion_matrix\n",
    "from sklearn.model_selection import train_test_split\n",
    "from sklearn.tree import DecisionTreeClassifier\n",
    "from sklearn.metrics import accuracy_score\n",
    "from sklearn import preprocessing\n",
    "from sklearn.metrics import classification_report\n",
    "\n",
    "balance_data = pd.read_csv('Cartdata.csv',sep= ',', header = None, skiprows=1, names=['Age','Job','House','Credit','Loan Approved'])\n",
    "print(balance_data.head())\n"
   ]
  },
  {
   "cell_type": "code",
   "execution_count": 2,
   "id": "54254fbf",
   "metadata": {},
   "outputs": [
    {
     "data": {
      "text/plain": [
       "Index(['Age', 'Job', 'House', 'Credit', 'Loan Approved'], dtype='object')"
      ]
     },
     "execution_count": 2,
     "metadata": {},
     "output_type": "execute_result"
    }
   ],
   "source": [
    "balance_data.columns"
   ]
  },
  {
   "cell_type": "code",
   "execution_count": 3,
   "id": "178c7fce",
   "metadata": {},
   "outputs": [],
   "source": [
    "le = preprocessing.LabelEncoder()"
   ]
  },
  {
   "cell_type": "code",
   "execution_count": 4,
   "id": "75ab935b",
   "metadata": {},
   "outputs": [
    {
     "name": "stdout",
     "output_type": "stream",
     "text": [
      "    Age  Job  House  Credit\n",
      "0     2    0      0       1\n",
      "1     2    0      0       2\n",
      "2     2    1      0       2\n",
      "3     2    1      1       1\n",
      "4     2    0      0       1\n",
      "5     0    0      0       1\n",
      "6     0    0      0       2\n",
      "7     0    1      1       2\n",
      "8     0    0      1       0\n",
      "9     0    0      1       0\n",
      "10    1    0      1       0\n",
      "11    1    0      1       2\n",
      "12    1    1      0       2\n",
      "13    1    1      0       0\n",
      "14    1    0      0       1\n"
     ]
    }
   ],
   "source": [
    "# Split the dataset\n",
    "# Separating the target variable\n",
    "list = []\n",
    "X = balance_data.loc[:, ['Age', 'Job', 'House', 'Credit']]\n",
    "for column in X:\n",
    "    X[column] = le.fit_transform(X[column])\n",
    "    #print(balance_data[column])\n",
    "    list.append(dict(zip(le.classes_, range(len(le.classes_)))))\n",
    "\n",
    "print(X)"
   ]
  },
  {
   "cell_type": "code",
   "execution_count": 5,
   "id": "90ed7abb",
   "metadata": {},
   "outputs": [
    {
     "name": "stdout",
     "output_type": "stream",
     "text": [
      "\n",
      "\n",
      "this is Y:\n",
      "     Loan Approved\n",
      "0               0\n",
      "1               0\n",
      "2               1\n",
      "3               1\n",
      "4               0\n",
      "5               0\n",
      "6               0\n",
      "7               1\n",
      "8               1\n",
      "9               1\n",
      "10              1\n",
      "11              1\n",
      "12              1\n",
      "13              1\n",
      "14              0 \n",
      "\n"
     ]
    }
   ],
   "source": [
    "Y = balance_data.loc[:, ['Loan Approved']]\n",
    "Y = Y.apply(le.fit_transform)\n",
    "list.append(dict(zip(le.classes_, range(len(le.classes_)))))\n",
    "print(\"\\n\\nthis is Y:\\n\",Y,\"\\n\")"
   ]
  },
  {
   "cell_type": "code",
   "execution_count": 6,
   "id": "ea9f6cda",
   "metadata": {},
   "outputs": [],
   "source": [
    "clf_gini = DecisionTreeClassifier(criterion = \"gini\",random_state = 12,max_depth=3, min_samples_leaf=3)"
   ]
  },
  {
   "cell_type": "code",
   "execution_count": 7,
   "id": "b4178998",
   "metadata": {},
   "outputs": [
    {
     "data": {
      "text/plain": [
       "DecisionTreeClassifier(max_depth=3, min_samples_leaf=3, random_state=12)"
      ]
     },
     "execution_count": 7,
     "metadata": {},
     "output_type": "execute_result"
    }
   ],
   "source": [
    "clf_gini.fit(X, Y)"
   ]
  },
  {
   "cell_type": "code",
   "execution_count": 8,
   "id": "082e91ac",
   "metadata": {},
   "outputs": [],
   "source": [
    "x_test = [[list[0]['Young'],list[1][False],list[2]['No'],list[3]['Good']]] #Getting label encodings for Young, FALSE, No, Good parameters"
   ]
  },
  {
   "cell_type": "code",
   "execution_count": 9,
   "id": "e90b9df0",
   "metadata": {},
   "outputs": [],
   "source": [
    "testdata = pd.DataFrame(columns=['Age', 'Job', 'House', 'Credit'], data=x_test)"
   ]
  },
  {
   "cell_type": "code",
   "execution_count": 10,
   "id": "bc88a0f1",
   "metadata": {},
   "outputs": [
    {
     "name": "stdout",
     "output_type": "stream",
     "text": [
      "   Age  Job  House  Credit\n",
      "0    2    0      0       2\n"
     ]
    }
   ],
   "source": [
    "print(testdata)"
   ]
  },
  {
   "cell_type": "code",
   "execution_count": 11,
   "id": "ef2ed5cd",
   "metadata": {},
   "outputs": [
    {
     "name": "stdout",
     "output_type": "stream",
     "text": [
      "['No']\n"
     ]
    }
   ],
   "source": [
    "y_pred = clf_gini.predict(testdata)\n",
    "print(le.inverse_transform(y_pred))"
   ]
  },
  {
   "cell_type": "code",
   "execution_count": 12,
   "id": "16fc5c53",
   "metadata": {},
   "outputs": [],
   "source": [
    "# The value for Loan Approved: No is 0, which is the predicted output"
   ]
  }
 ],
 "metadata": {
  "kernelspec": {
   "display_name": "Python 3",
   "language": "python",
   "name": "python3"
  },
  "language_info": {
   "codemirror_mode": {
    "name": "ipython",
    "version": 3
   },
   "file_extension": ".py",
   "mimetype": "text/x-python",
   "name": "python",
   "nbconvert_exporter": "python",
   "pygments_lexer": "ipython3",
   "version": "3.8.8"
  }
 },
 "nbformat": 4,
 "nbformat_minor": 5
}

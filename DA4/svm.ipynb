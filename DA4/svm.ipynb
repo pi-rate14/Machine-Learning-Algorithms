{
 "cells": [
  {
   "cell_type": "code",
   "execution_count": 1,
   "id": "e40bb8bb-3497-48c3-97fa-a161b60503df",
   "metadata": {},
   "outputs": [],
   "source": [
    "# Importing libraries\n",
    "import numpy as np\n",
    "import matplotlib.pyplot as plt\n",
    "from sklearn import svm"
   ]
  },
  {
   "cell_type": "code",
   "execution_count": 2,
   "id": "b361c081-78a4-4379-ae31-a9d7e3d9062b",
   "metadata": {},
   "outputs": [],
   "source": [
    "# Reading Dataset\n",
    "x = [1, 2, 1, 1, 4, 5, 5, 6]\n",
    "y = [1, 1, -1, 2, 0, 1, -1, 0]"
   ]
  },
  {
   "cell_type": "code",
   "execution_count": 3,
   "id": "e3fea21f-7750-489b-b273-a59c50d48374",
   "metadata": {},
   "outputs": [
    {
     "data": {
      "image/png": "[encoded data removed]",
      "text/plain": [
       "<Figure size 432x288 with 1 Axes>"
      ]
     },
     "metadata": {
      "needs_background": "light"
     },
     "output_type": "display_data"
    }
   ],
   "source": [
    "plt.scatter(x,y)\n",
    "plt.show()"
   ]
  },
  {
   "cell_type": "code",
   "execution_count": 4,
   "id": "86f7de51-820b-4125-830f-7e85749b7393",
   "metadata": {},
   "outputs": [],
   "source": [
    "X = np.array([[1,1],\n",
    "             [2,1],\n",
    "             [1,-1],\n",
    "             [1,2],\n",
    "             [4,0],\n",
    "             [5,1],\n",
    "             [5,-1],\n",
    "             [6,0]])"
   ]
  },
  {
   "cell_type": "code",
   "execution_count": 5,
   "id": "bb81f96d-a001-41cf-8327-4f4233b6ba1a",
   "metadata": {},
   "outputs": [],
   "source": [
    "y = [0,1,0,1,0,1,0,1]"
   ]
  },
  {
   "cell_type": "code",
   "execution_count": 6,
   "id": "eb414334-cce2-439e-af4e-640972bb26eb",
   "metadata": {},
   "outputs": [],
   "source": [
    "clf = svm.SVC(kernel='linear', C = 1.0)"
   ]
  },
  {
   "cell_type": "code",
   "execution_count": 7,
   "id": "5c68417e-0d2e-4485-9ea4-081bf0ab03f8",
   "metadata": {},
   "outputs": [
    {
     "data": {
      "text/plain": [
       "SVC(kernel='linear')"
      ]
     },
     "execution_count": 7,
     "metadata": {},
     "output_type": "execute_result"
    }
   ],
   "source": [
    "clf.fit(X,y)"
   ]
  },
  {
   "cell_type": "code",
   "execution_count": 8,
   "id": "96c16a6d-4b1e-4a1c-890b-3931ef2c89b7",
   "metadata": {},
   "outputs": [
    {
     "name": "stdout",
     "output_type": "stream",
     "text": [
      "[0.57132361 1.42843148]\n"
     ]
    }
   ],
   "source": [
    "w = clf.coef_[0]\n",
    "print(w)"
   ]
  },
  {
   "cell_type": "code",
   "execution_count": 9,
   "id": "51ae2489-dbd8-460b-9c91-b2101d1a38a6",
   "metadata": {},
   "outputs": [],
   "source": [
    "a = -w[0] / w[1]"
   ]
  },
  {
   "cell_type": "code",
   "execution_count": 10,
   "id": "8a7fbf65-c9c3-4d8d-b1aa-a763589ce7aa",
   "metadata": {},
   "outputs": [],
   "source": [
    "xx = np.linspace(0,12)\n",
    "yy = a * xx - clf.intercept_[0] / w[1]"
   ]
  },
  {
   "cell_type": "code",
   "execution_count": 11,
   "id": "8d9e4653-ac39-4cb1-80de-fb130736d9c4",
   "metadata": {},
   "outputs": [
    {
     "data": {
      "image/png": "[encoded data removed]",
      "text/plain": [
       "<Figure size 432x288 with 1 Axes>"
      ]
     },
     "metadata": {
      "needs_background": "light"
     },
     "output_type": "display_data"
    }
   ],
   "source": [
    "h0 = plt.plot(xx, yy, 'k-', label = \"non weighted div\")\n",
    "plt.scatter(X[:, 0], X[:, 1], c = y)\n",
    "plt.title(\"Linear SVM classifier\")\n",
    "plt.legend()\n",
    "plt.show()"
   ]
  }
 ],
 "metadata": {
  "kernelspec": {
   "display_name": "Python 3",
   "language": "python",
   "name": "python3"
  },
  "language_info": {
   "codemirror_mode": {
    "name": "ipython",
    "version": 3
   },
   "file_extension": ".py",
   "mimetype": "text/x-python",
   "name": "python",
   "nbconvert_exporter": "python",
   "pygments_lexer": "ipython3",
   "version": "3.8.10"
  }
 },
 "nbformat": 4,
 "nbformat_minor": 5
}
